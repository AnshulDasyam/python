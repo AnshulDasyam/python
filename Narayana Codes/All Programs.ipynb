{
 "metadata": {
  "language_info": {
   "codemirror_mode": {
    "name": "ipython",
    "version": 3
   },
   "file_extension": ".py",
   "mimetype": "text/x-python",
   "name": "python",
   "nbconvert_exporter": "python",
   "pygments_lexer": "ipython3",
   "version": "3.9.2"
  },
  "orig_nbformat": 2,
  "kernelspec": {
   "name": "python3",
   "display_name": "Python 3.9.2 64-bit",
   "metadata": {
    "interpreter": {
     "hash": "e1c00fcee516162d59010bdb491f784c4614d26a2b20c3aea8cb7abd91b8e3b7"
    }
   }
  }
 },
 "nbformat": 4,
 "nbformat_minor": 2,
 "cells": [
  {
   "cell_type": "code",
   "execution_count": null,
   "metadata": {},
   "outputs": [],
   "source": [
    "a = int(input('enter number 1'))\n",
    "b = int(input('enter number 2'))\n",
    "c = int(input('enter number 3'))\n",
    "if a > b :\n",
    "    if a > c :\n",
    "        print('a is greater')\n",
    "    else :\n",
    "        print('c is greater')\n",
    "elif b > c :\n",
    "    print('b is greater')"
   ]
  },
  {
   "cell_type": "code",
   "execution_count": null,
   "metadata": {},
   "outputs": [],
   "source": [
    "a = int(input('enter a number '))\n",
    "n = 0\n",
    "b = 0\n",
    "while n <= a :\n",
    "    n +=1\n",
    "    if a%n == 0:\n",
    "        b +=1\n",
    "if b ==2 :\n",
    "    print(a,' is a prime number')\n",
    "elif b ==1:\n",
    "    print(a,' is neither composite nor prime')\n",
    "else :\n",
    "    print(a,' is a composite number')\n",
    "\n"
   ]
  },
  {
   "cell_type": "code",
   "execution_count": null,
   "metadata": {
    "tags": []
   },
   "outputs": [],
   "source": [
    "#Fibonacci series(0 1 1 2 3 5 8 11 )\n",
    "a,b,s = 0,1,1\n",
    "print(a,b,end=' ')\n",
    "n = int(input('Number of fibonnacci Terms? '))\n",
    "for i in range(1,n-1):\n",
    "    c = a+b\n",
    "    a = b\n",
    "    b = c\n",
    "    s +=c\n",
    "    print(c,end=' ')\n",
    "print('\\n',s)\n",
    "\n",
    "\n",
    "\n",
    "\n"
   ]
  },
  {
   "cell_type": "code",
   "execution_count": null,
   "metadata": {},
   "outputs": [],
   "source": [
    "#Print A Pattern\n",
    "\n",
    "n = int(input('Number of lines of pattern> '))\n",
    "\n",
    "for i in range(1,n+1):\n",
    "    for j in range(1,i+1):\n",
    "        print(j,end=\" \")\n",
    "    print(\"\")\n",
    "\n",
    "for i in range(1,n+1):\n",
    "    for j in range(n+1,i,-1):\n",
    "        print('*',end=' ')\n",
    "    print('')\n",
    "\n",
    "\n"
   ]
  },
  {
   "cell_type": "code",
   "execution_count": null,
   "metadata": {},
   "outputs": [],
   "source": [
    "a = input('Enter A String')\n",
    "n = len(a)\n",
    "print(a)\n",
    "for i in range(0,n) :\n",
    "    if a[i] == 'a' or \"e\" :\n",
    "        print(a[i])\n",
    "    "
   ]
  },
  {
   "cell_type": "code",
   "execution_count": null,
   "metadata": {},
   "outputs": [],
   "source": [
    "#Finding Vowels\n",
    "\n",
    "a = input('Enter A String')\n",
    "n = len(a)\n",
    "c = 0\n",
    "print(a)\n",
    "v = ['a','e','i','u','v']\n",
    "for i in range(n):\n",
    "    if a[i] in v :\n",
    "        print(a[i])\n",
    "        c +=1\n",
    "print(c)"
   ]
  },
  {
   "cell_type": "code",
   "execution_count": null,
   "metadata": {
    "tags": []
   },
   "outputs": [],
   "source": [
    "text = open('D:\\Github\\python\\syntax\\mbox short.txt')\n",
    "for line in text :\n",
    "    if line.startswith('From'):\n",
    "        print(line.rstrip())"
   ]
  },
  {
   "cell_type": "code",
   "execution_count": null,
   "metadata": {},
   "outputs": [],
   "source": [
    "text = open(r'story.txt','r')\n",
    "count = 0\n",
    "for i in text:\n",
    "    print(i.rstrip())\n",
    "    v = ['a','e','i','u','o']\n",
    "    n = len(i)\n",
    "    for a in range(n):\n",
    "        if i[a] in v :\n",
    "            count +=1\n",
    "print(count)\n",
    "\n",
    "\n",
    "\n"
   ]
  },
  {
   "cell_type": "code",
   "execution_count": null,
   "metadata": {},
   "outputs": [],
   "source": [
    "text = open('book.txt')\n",
    "count = 0\n",
    "for i in text :\n",
    "    print(i.rstrip())\n",
    "    ar = i.split()\n",
    "    print(ar)\n",
    "    print(len(ar))\n",
    "    for a in ar :\n",
    "        if a == 'computer':\n",
    "            count +=1\n",
    "print(count)\n"
   ]
  },
  {
   "cell_type": "code",
   "execution_count": 48,
   "metadata": {},
   "outputs": [
    {
     "output_type": "stream",
     "name": "stdout",
     "text": [
      "Apple\nAeroplane\nant\nagra\nAntartic\n"
     ]
    }
   ],
   "source": [
    "text = open('lines.txt')\n",
    "for i in text :\n",
    "    i =i.rstrip()\n",
    "    if i.startswith('A') or i.startswith('a'):\n",
    "        print(i)"
   ]
  },
  {
   "cell_type": "code",
   "execution_count": 58,
   "metadata": {},
   "outputs": [
    {
     "output_type": "stream",
     "name": "stdout",
     "text": [
      "Number Not Found\n"
     ]
    }
   ],
   "source": [
    "ar = list(map(int,input().split()))\n",
    "x = int(input('Number You Want To Search'))\n",
    "c = 0\n",
    "for i in ar :\n",
    "    if i == x :\n",
    "        print('Number Found')\n",
    "        c = 1\n",
    "        break\n",
    "    if i != x :\n",
    "        continue\n",
    "if c == 0 :\n",
    "    print('Number Not Found') \n"
   ]
  },
  {
   "cell_type": "code",
   "execution_count": null,
   "metadata": {},
   "outputs": [],
   "source": []
  }
 ]
}