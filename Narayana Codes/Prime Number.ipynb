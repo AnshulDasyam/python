{
 "metadata": {
  "language_info": {
   "codemirror_mode": {
    "name": "ipython",
    "version": 3
   },
   "file_extension": ".py",
   "mimetype": "text/x-python",
   "name": "python",
   "nbconvert_exporter": "python",
   "pygments_lexer": "ipython3",
   "version": "3.9.2"
  },
  "orig_nbformat": 2,
  "kernelspec": {
   "name": "python3",
   "display_name": "Python 3.9.2 64-bit",
   "metadata": {
    "interpreter": {
     "hash": "e1c00fcee516162d59010bdb491f784c4614d26a2b20c3aea8cb7abd91b8e3b7"
    }
   }
  }
 },
 "nbformat": 4,
 "nbformat_minor": 2,
 "cells": [
  {
   "cell_type": "code",
   "execution_count": 11,
   "metadata": {},
   "outputs": [
    {
     "output_type": "stream",
     "name": "stdout",
     "text": [
      "8069  is a prime number\n"
     ]
    }
   ],
   "source": [
    "a = int(input('enter a number '))\n",
    "n = 0\n",
    "b = 0\n",
    "while n <= a :\n",
    "    n +=1\n",
    "    if a%n == 0:\n",
    "        b +=1\n",
    "if b ==2 :\n",
    "    print(a,' is a prime number')\n",
    "elif b ==1:\n",
    "    print(a,' is neither composite nor prime')\n",
    "else :\n",
    "    print(a,' is a composite number')\n",
    "\n"
   ]
  },
  {
   "cell_type": "code",
   "execution_count": null,
   "metadata": {},
   "outputs": [],
   "source": []
  }
 ]
}